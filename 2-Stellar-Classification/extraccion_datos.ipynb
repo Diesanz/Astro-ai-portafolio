{
 "cells": [
  {
   "cell_type": "code",
   "execution_count": 32,
   "id": "3f07f105",
   "metadata": {},
   "outputs": [
    {
     "name": "stderr",
     "output_type": "stream",
     "text": [
      "c:\\Users\\diego\\miniconda3\\envs\\astro_env\\lib\\site-packages\\tqdm\\auto.py:21: TqdmWarning: IProgress not found. Please update jupyter and ipywidgets. See https://ipywidgets.readthedocs.io/en/stable/user_install.html\n",
      "  from .autonotebook import tqdm as notebook_tqdm\n"
     ]
    },
    {
     "name": "stdout",
     "output_type": "stream",
     "text": [
      "Downloading from https://www.kaggle.com/api/v1/datasets/download/fedesoriano/stellar-classification-dataset-sdss17?dataset_version_number=1...\n"
     ]
    },
    {
     "name": "stderr",
     "output_type": "stream",
     "text": [
      "100%|██████████| 6.89M/6.89M [00:00<00:00, 7.61MB/s]"
     ]
    },
    {
     "name": "stdout",
     "output_type": "stream",
     "text": [
      "Extracting files...\n"
     ]
    },
    {
     "name": "stderr",
     "output_type": "stream",
     "text": [
      "\n"
     ]
    },
    {
     "name": "stdout",
     "output_type": "stream",
     "text": [
      "Dataset guardado en: ./Datasets\\datasets\\fedesoriano\\stellar-classification-dataset-sdss17\\versions\\1\n"
     ]
    }
   ],
   "source": [
    "import os\n",
    "import kagglehub\n",
    "\n",
    "# Especificar carpeta donde guardar\n",
    "os.environ[\"KAGGLEHUB_CACHE\"] = \"./Datasets\"\n",
    "\n",
    "# Descargar dataset\n",
    "path = kagglehub.dataset_download(\"fedesoriano/stellar-classification-dataset-sdss17\")\n",
    "\n",
    "print(\"Dataset guardado en:\", path)\n"
   ]
  },
  {
   "cell_type": "code",
   "execution_count": 34,
   "id": "240958a9",
   "metadata": {},
   "outputs": [
    {
     "name": "stdout",
     "output_type": "stream",
     "text": [
      "         obj_ID       alpha      delta         u         g         r  \\\n",
      "0  1.237661e+18  135.689107  32.494632  23.87882  22.27530  20.39501   \n",
      "1  1.237665e+18  144.826101  31.274185  24.77759  22.83188  22.58444   \n",
      "2  1.237661e+18  142.188790  35.582444  25.26307  22.66389  20.60976   \n",
      "3  1.237663e+18  338.741038  -0.402828  22.13682  23.77656  21.61162   \n",
      "4  1.237680e+18  345.282593  21.183866  19.43718  17.58028  16.49747   \n",
      "\n",
      "          i         z  run_ID  rerun_ID  cam_col  field_ID   spec_obj_ID  \\\n",
      "0  19.16573  18.79371    3606       301        2        79  6.543777e+18   \n",
      "1  21.16812  21.61427    4518       301        5       119  1.176014e+19   \n",
      "2  19.34857  18.94827    3606       301        2       120  5.152200e+18   \n",
      "3  20.50454  19.25010    4192       301        3       214  1.030107e+19   \n",
      "4  15.97711  15.54461    8102       301        3       137  6.891865e+18   \n",
      "\n",
      "    class  redshift  plate    MJD  fiber_ID  \n",
      "0  GALAXY  0.634794   5812  56354       171  \n",
      "1  GALAXY  0.779136  10445  58158       427  \n",
      "2  GALAXY  0.644195   4576  55592       299  \n",
      "3  GALAXY  0.932346   9149  58039       775  \n",
      "4  GALAXY  0.116123   6121  56187       842  \n"
     ]
    }
   ],
   "source": [
    "import pandas as pd\n",
    "#lectura del dataset\n",
    "df = pd.read_csv(\"./Datasets/star_classification.csv\")\n",
    "print(df.head())"
   ]
  }
 ],
 "metadata": {
  "kernelspec": {
   "display_name": "astro_env",
   "language": "python",
   "name": "python3"
  },
  "language_info": {
   "codemirror_mode": {
    "name": "ipython",
    "version": 3
   },
   "file_extension": ".py",
   "mimetype": "text/x-python",
   "name": "python",
   "nbconvert_exporter": "python",
   "pygments_lexer": "ipython3",
   "version": "3.10.18"
  }
 },
 "nbformat": 4,
 "nbformat_minor": 5
}
