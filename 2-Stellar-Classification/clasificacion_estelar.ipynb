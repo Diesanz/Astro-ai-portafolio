{
 "cells": [
  {
   "cell_type": "code",
   "execution_count": 37,
   "id": "653fe6d9",
   "metadata": {},
   "outputs": [
    {
     "name": "stdout",
     "output_type": "stream",
     "text": [
      "Usando dispositivo: cuda\n"
     ]
    }
   ],
   "source": [
    "#Importacion de librerias necesarias\n",
    "import pandas as pd\n",
    "import numpy as np\n",
    "import matplotlib.pyplot as plt\n",
    "import seaborn as sns\n",
    "import torch\n",
    "import torch.nn as nn\n",
    "import pickle\n",
    "from sklearn.model_selection import train_test_split\n",
    "from sklearn.preprocessing import LabelEncoder, StandardScaler\n",
    "from sklearn.metrics import confusion_matrix, classification_report\n",
    "\n",
    "#Ajustes generales\n",
    "torch.backends.cudnn.deterministic = True\n",
    "RANDOM_SEED = 123\n",
    "torch.manual_seed(RANDOM_SEED)\n",
    "DEVICE = torch.device('cuda' if torch.cuda.is_available() else 'cpu') #Usas GPU si esta disponible\n",
    "print(f'Usando dispositivo: {DEVICE}')"
   ]
  },
  {
   "cell_type": "code",
   "execution_count": 2,
   "id": "10e3f3b3",
   "metadata": {},
   "outputs": [
    {
     "name": "stdout",
     "output_type": "stream",
     "text": [
      "Dimensiones finales (100000, 18)\n"
     ]
    },
    {
     "data": {
      "application/vnd.microsoft.datawrangler.viewer.v0+json": {
       "columns": [
        {
         "name": "index",
         "rawType": "int64",
         "type": "integer"
        },
        {
         "name": "obj_ID",
         "rawType": "float64",
         "type": "float"
        },
        {
         "name": "alpha",
         "rawType": "float64",
         "type": "float"
        },
        {
         "name": "delta",
         "rawType": "float64",
         "type": "float"
        },
        {
         "name": "u",
         "rawType": "float64",
         "type": "float"
        },
        {
         "name": "g",
         "rawType": "float64",
         "type": "float"
        },
        {
         "name": "r",
         "rawType": "float64",
         "type": "float"
        },
        {
         "name": "i",
         "rawType": "float64",
         "type": "float"
        },
        {
         "name": "z",
         "rawType": "float64",
         "type": "float"
        },
        {
         "name": "run_ID",
         "rawType": "int64",
         "type": "integer"
        },
        {
         "name": "rerun_ID",
         "rawType": "int64",
         "type": "integer"
        },
        {
         "name": "cam_col",
         "rawType": "int64",
         "type": "integer"
        },
        {
         "name": "field_ID",
         "rawType": "int64",
         "type": "integer"
        },
        {
         "name": "spec_obj_ID",
         "rawType": "float64",
         "type": "float"
        },
        {
         "name": "class",
         "rawType": "object",
         "type": "string"
        },
        {
         "name": "redshift",
         "rawType": "float64",
         "type": "float"
        },
        {
         "name": "plate",
         "rawType": "int64",
         "type": "integer"
        },
        {
         "name": "MJD",
         "rawType": "int64",
         "type": "integer"
        },
        {
         "name": "fiber_ID",
         "rawType": "int64",
         "type": "integer"
        }
       ],
       "ref": "5f0099cf-4710-4a07-a1fa-71dc66157524",
       "rows": [
        [
         "0",
         "1.2376609613277432e+18",
         "135.6891066036",
         "32.4946318397087",
         "23.87882",
         "22.2753",
         "20.39501",
         "19.16573",
         "18.79371",
         "3606",
         "301",
         "2",
         "79",
         "6.543777369295182e+18",
         "GALAXY",
         "0.6347936",
         "5812",
         "56354",
         "171"
        ],
        [
         "1",
         "1.237664879951151e+18",
         "144.826100550256",
         "31.2741848944939",
         "24.77759",
         "22.83188",
         "22.58444",
         "21.16812",
         "21.61427",
         "4518",
         "301",
         "5",
         "119",
         "1.1760142036707334e+19",
         "GALAXY",
         "0.779136",
         "10445",
         "58158",
         "427"
        ],
        [
         "2",
         "1.2376609613304302e+18",
         "142.188789562506",
         "35.5824441819976",
         "25.26307",
         "22.66389",
         "20.60976",
         "19.34857",
         "18.94827",
         "3606",
         "301",
         "2",
         "120",
         "5.152200256025549e+18",
         "GALAXY",
         "0.6441945",
         "4576",
         "55592",
         "299"
        ],
        [
         "3",
         "1.237663478724298e+18",
         "338.741037753146",
         "-0.402827574587482",
         "22.13682",
         "23.77656",
         "21.61162",
         "20.50454",
         "19.2501",
         "4192",
         "301",
         "3",
         "214",
         "1.030107141295442e+19",
         "GALAXY",
         "0.9323456",
         "9149",
         "58039",
         "775"
        ],
        [
         "4",
         "1.237680272041378e+18",
         "345.282593210935",
         "21.1838656010284",
         "19.43718",
         "17.58028",
         "16.49747",
         "15.97711",
         "15.54461",
         "8102",
         "301",
         "3",
         "137",
         "6.891864880783317e+18",
         "GALAXY",
         "0.1161227",
         "6121",
         "56187",
         "842"
        ]
       ],
       "shape": {
        "columns": 18,
        "rows": 5
       }
      },
      "text/html": [
       "<div>\n",
       "<style scoped>\n",
       "    .dataframe tbody tr th:only-of-type {\n",
       "        vertical-align: middle;\n",
       "    }\n",
       "\n",
       "    .dataframe tbody tr th {\n",
       "        vertical-align: top;\n",
       "    }\n",
       "\n",
       "    .dataframe thead th {\n",
       "        text-align: right;\n",
       "    }\n",
       "</style>\n",
       "<table border=\"1\" class=\"dataframe\">\n",
       "  <thead>\n",
       "    <tr style=\"text-align: right;\">\n",
       "      <th></th>\n",
       "      <th>obj_ID</th>\n",
       "      <th>alpha</th>\n",
       "      <th>delta</th>\n",
       "      <th>u</th>\n",
       "      <th>g</th>\n",
       "      <th>r</th>\n",
       "      <th>i</th>\n",
       "      <th>z</th>\n",
       "      <th>run_ID</th>\n",
       "      <th>rerun_ID</th>\n",
       "      <th>cam_col</th>\n",
       "      <th>field_ID</th>\n",
       "      <th>spec_obj_ID</th>\n",
       "      <th>class</th>\n",
       "      <th>redshift</th>\n",
       "      <th>plate</th>\n",
       "      <th>MJD</th>\n",
       "      <th>fiber_ID</th>\n",
       "    </tr>\n",
       "  </thead>\n",
       "  <tbody>\n",
       "    <tr>\n",
       "      <th>0</th>\n",
       "      <td>1.237661e+18</td>\n",
       "      <td>135.689107</td>\n",
       "      <td>32.494632</td>\n",
       "      <td>23.87882</td>\n",
       "      <td>22.27530</td>\n",
       "      <td>20.39501</td>\n",
       "      <td>19.16573</td>\n",
       "      <td>18.79371</td>\n",
       "      <td>3606</td>\n",
       "      <td>301</td>\n",
       "      <td>2</td>\n",
       "      <td>79</td>\n",
       "      <td>6.543777e+18</td>\n",
       "      <td>GALAXY</td>\n",
       "      <td>0.634794</td>\n",
       "      <td>5812</td>\n",
       "      <td>56354</td>\n",
       "      <td>171</td>\n",
       "    </tr>\n",
       "    <tr>\n",
       "      <th>1</th>\n",
       "      <td>1.237665e+18</td>\n",
       "      <td>144.826101</td>\n",
       "      <td>31.274185</td>\n",
       "      <td>24.77759</td>\n",
       "      <td>22.83188</td>\n",
       "      <td>22.58444</td>\n",
       "      <td>21.16812</td>\n",
       "      <td>21.61427</td>\n",
       "      <td>4518</td>\n",
       "      <td>301</td>\n",
       "      <td>5</td>\n",
       "      <td>119</td>\n",
       "      <td>1.176014e+19</td>\n",
       "      <td>GALAXY</td>\n",
       "      <td>0.779136</td>\n",
       "      <td>10445</td>\n",
       "      <td>58158</td>\n",
       "      <td>427</td>\n",
       "    </tr>\n",
       "    <tr>\n",
       "      <th>2</th>\n",
       "      <td>1.237661e+18</td>\n",
       "      <td>142.188790</td>\n",
       "      <td>35.582444</td>\n",
       "      <td>25.26307</td>\n",
       "      <td>22.66389</td>\n",
       "      <td>20.60976</td>\n",
       "      <td>19.34857</td>\n",
       "      <td>18.94827</td>\n",
       "      <td>3606</td>\n",
       "      <td>301</td>\n",
       "      <td>2</td>\n",
       "      <td>120</td>\n",
       "      <td>5.152200e+18</td>\n",
       "      <td>GALAXY</td>\n",
       "      <td>0.644195</td>\n",
       "      <td>4576</td>\n",
       "      <td>55592</td>\n",
       "      <td>299</td>\n",
       "    </tr>\n",
       "    <tr>\n",
       "      <th>3</th>\n",
       "      <td>1.237663e+18</td>\n",
       "      <td>338.741038</td>\n",
       "      <td>-0.402828</td>\n",
       "      <td>22.13682</td>\n",
       "      <td>23.77656</td>\n",
       "      <td>21.61162</td>\n",
       "      <td>20.50454</td>\n",
       "      <td>19.25010</td>\n",
       "      <td>4192</td>\n",
       "      <td>301</td>\n",
       "      <td>3</td>\n",
       "      <td>214</td>\n",
       "      <td>1.030107e+19</td>\n",
       "      <td>GALAXY</td>\n",
       "      <td>0.932346</td>\n",
       "      <td>9149</td>\n",
       "      <td>58039</td>\n",
       "      <td>775</td>\n",
       "    </tr>\n",
       "    <tr>\n",
       "      <th>4</th>\n",
       "      <td>1.237680e+18</td>\n",
       "      <td>345.282593</td>\n",
       "      <td>21.183866</td>\n",
       "      <td>19.43718</td>\n",
       "      <td>17.58028</td>\n",
       "      <td>16.49747</td>\n",
       "      <td>15.97711</td>\n",
       "      <td>15.54461</td>\n",
       "      <td>8102</td>\n",
       "      <td>301</td>\n",
       "      <td>3</td>\n",
       "      <td>137</td>\n",
       "      <td>6.891865e+18</td>\n",
       "      <td>GALAXY</td>\n",
       "      <td>0.116123</td>\n",
       "      <td>6121</td>\n",
       "      <td>56187</td>\n",
       "      <td>842</td>\n",
       "    </tr>\n",
       "  </tbody>\n",
       "</table>\n",
       "</div>"
      ],
      "text/plain": [
       "         obj_ID       alpha      delta         u         g         r  \\\n",
       "0  1.237661e+18  135.689107  32.494632  23.87882  22.27530  20.39501   \n",
       "1  1.237665e+18  144.826101  31.274185  24.77759  22.83188  22.58444   \n",
       "2  1.237661e+18  142.188790  35.582444  25.26307  22.66389  20.60976   \n",
       "3  1.237663e+18  338.741038  -0.402828  22.13682  23.77656  21.61162   \n",
       "4  1.237680e+18  345.282593  21.183866  19.43718  17.58028  16.49747   \n",
       "\n",
       "          i         z  run_ID  rerun_ID  cam_col  field_ID   spec_obj_ID  \\\n",
       "0  19.16573  18.79371    3606       301        2        79  6.543777e+18   \n",
       "1  21.16812  21.61427    4518       301        5       119  1.176014e+19   \n",
       "2  19.34857  18.94827    3606       301        2       120  5.152200e+18   \n",
       "3  20.50454  19.25010    4192       301        3       214  1.030107e+19   \n",
       "4  15.97711  15.54461    8102       301        3       137  6.891865e+18   \n",
       "\n",
       "    class  redshift  plate    MJD  fiber_ID  \n",
       "0  GALAXY  0.634794   5812  56354       171  \n",
       "1  GALAXY  0.779136  10445  58158       427  \n",
       "2  GALAXY  0.644195   4576  55592       299  \n",
       "3  GALAXY  0.932346   9149  58039       775  \n",
       "4  GALAXY  0.116123   6121  56187       842  "
      ]
     },
     "execution_count": 2,
     "metadata": {},
     "output_type": "execute_result"
    }
   ],
   "source": [
    "#Filtrado de datos\n",
    "#El datset ya esta casi limpio, solo hay que eliminar las filas con valores nulos y ajustar los indices\n",
    "\n",
    "#Lectura del dataset ya descargador y descomprimido\n",
    "df = pd.read_csv(\"./Datasets/star_classification.csv\")\n",
    "\n",
    "df = df.dropna(subset=['u','g','r','i','z','redshift','class'])\n",
    "df.reset_index(drop=True, inplace=True)\n",
    "\n",
    "#Mostrar resultados\n",
    "print(f'Dimensiones finales {df.shape}')\n",
    "df.head()"
   ]
  },
  {
   "cell_type": "code",
   "execution_count": 3,
   "id": "2b129f51",
   "metadata": {},
   "outputs": [
    {
     "name": "stdout",
     "output_type": "stream",
     "text": [
      "Caracteristicas transformadas: (100000, 6), Objetivos: (100000,)\n"
     ]
    }
   ],
   "source": [
    "#Preparacion de datos, para el modelo de clasificación\n",
    "\n",
    "#Seleccionar caracteristicas y objetivo (útiles para el modelo)\n",
    "#Seleccionamos solo features numéricas\n",
    "features = df.loc[:, ['u','g','r','i','z','redshift']]\n",
    "targets = df.loc[:,'class']  # Etiqueta de clase (objetivo)\n",
    "\n",
    "# Estandarizar características\n",
    "scaler = StandardScaler()\n",
    "X = scaler.fit_transform(features)\n",
    "\n",
    "# Codificar etiquetas de salida\n",
    "label_encoder = LabelEncoder()\n",
    "y = label_encoder.fit_transform(targets)\n",
    "\n",
    "print(f'Caracteristicas transformadas: {X.shape}, Objetivos: {y.shape}')"
   ]
  },
  {
   "cell_type": "code",
   "execution_count": 4,
   "id": "c52311ca",
   "metadata": {},
   "outputs": [
    {
     "name": "stdout",
     "output_type": "stream",
     "text": [
      "Train set: (60000, 6), Validation set: (20000, 6), Test set: (20000, 6)\n"
     ]
    }
   ],
   "source": [
    "#Dividir los datos en datos de entrenamiento, validacion y testeo\n",
    "X_temp, X_test, y_temp, y_test = train_test_split(X, y, test_size=0.2, random_state=42)\n",
    "X_train, X_val, y_train, y_val = train_test_split(X_temp, y_temp, test_size=0.25, random_state=42)\n",
    "print(f'Train set: {X_train.shape}, Validation set: {X_val.shape}, Test set: {X_test.shape}')"
   ]
  },
  {
   "cell_type": "code",
   "execution_count": 5,
   "id": "d044c02c",
   "metadata": {},
   "outputs": [],
   "source": [
    "#Creacion de los datasets y dataloaders de pytorch\n",
    "class MeteoriteDatset(torch.utils.data.Dataset):\n",
    "    def __init__(self, features, labels):\n",
    "        self.features = torch.tensor(features, dtype=torch.float32)\n",
    "        self.labels = torch.tensor(labels, dtype=torch.long)\n",
    "    \n",
    "    def __len__(self):\n",
    "        return len(self.labels)\n",
    "    \n",
    "    def __getitem__(self, idx):\n",
    "        return self.features[idx], self.labels[idx]\n",
    "    \n",
    "train_dataset = MeteoriteDatset(X_train, y_train)\n",
    "val_dataset = MeteoriteDatset(X_val, y_val)\n",
    "test_dataset = MeteoriteDatset(X_test, y_test)\n",
    "\n",
    "#Creacion de los dataloaders\n",
    "train_dl = torch.utils.data.DataLoader(train_dataset, batch_size=64, shuffle=True)\n",
    "val_dl = torch.utils.data.DataLoader(val_dataset, batch_size=64, shuffle=False)\n",
    "test_dl = torch.utils.data.DataLoader(test_dataset, batch_size=64, shuffle=False)"
   ]
  },
  {
   "cell_type": "code",
   "execution_count": 6,
   "id": "34dbc212",
   "metadata": {},
   "outputs": [
    {
     "data": {
      "text/plain": [
       "MeteiriteModule(\n",
       "  (model): Sequential(\n",
       "    (0): Linear(in_features=6, out_features=256, bias=True)\n",
       "    (1): ReLU()\n",
       "    (2): BatchNorm1d(256, eps=1e-05, momentum=0.1, affine=True, track_running_stats=True)\n",
       "    (3): Dropout(p=0.3, inplace=False)\n",
       "    (4): Linear(in_features=256, out_features=128, bias=True)\n",
       "    (5): ReLU()\n",
       "    (6): BatchNorm1d(128, eps=1e-05, momentum=0.1, affine=True, track_running_stats=True)\n",
       "    (7): Dropout(p=0.3, inplace=False)\n",
       "    (8): Linear(in_features=128, out_features=128, bias=True)\n",
       "    (9): ReLU()\n",
       "    (10): BatchNorm1d(128, eps=1e-05, momentum=0.1, affine=True, track_running_stats=True)\n",
       "    (11): Dropout(p=0.3, inplace=False)\n",
       "    (12): Linear(in_features=128, out_features=3, bias=True)\n",
       "  )\n",
       ")"
      ]
     },
     "execution_count": 6,
     "metadata": {},
     "output_type": "execute_result"
    }
   ],
   "source": [
    "#Creación de un modelo de red neuronal\n",
    "#Definición de la arquitectura de la red neuronal para clasificación\n",
    "class MeteiriteModule(nn.Module):\n",
    "    def __init__(self, input_dim, output_dim):\n",
    "        super().__init__()\n",
    "        self.model = nn.Sequential(\n",
    "            # Capa de entrada totalmente conectada\n",
    "            nn.Linear(input_dim, 256),\n",
    "            nn.ReLU(),  #Activación no lineal\n",
    "            nn.BatchNorm1d(256),  #Normalización por lotes para estabilidad\n",
    "            nn.Dropout(0.3),  #Regularización para evitar overfitting\n",
    "            \n",
    "            #Segunda capa oculta\n",
    "            nn.Linear(256, 128),\n",
    "            nn.ReLU(),\n",
    "            nn.BatchNorm1d(128),\n",
    "            nn.Dropout(0.3),\n",
    "            \n",
    "            #Tercera capa oculta\n",
    "            nn.Linear(128, 128),\n",
    "            nn.ReLU(),\n",
    "            nn.BatchNorm1d(128),\n",
    "            nn.Dropout(0.3),\n",
    "            \n",
    "            # Capa de salida\n",
    "            nn.Linear(128, output_dim)\n",
    "        )\n",
    "    \n",
    "    def forward(self, x):\n",
    "        #Propagación hacia adelante\n",
    "        return self.model(x)\n",
    "    \n",
    "    def predict(self, x):\n",
    "        #Método para predecir etiquetas a partir de los logits\n",
    "        self.eval()\n",
    "        with torch.no_grad():\n",
    "            logits = self.forward(x)\n",
    "            preds = torch.argmax(logits, dim=1)\n",
    "        return preds\n",
    "\n",
    "#Inicializar modelo\n",
    "input_dim = X_train.shape[1]\n",
    "output_dim = len(set(y))\n",
    "model = MeteiriteModule(input_dim, output_dim).to(DEVICE)\n",
    "model"
   ]
  },
  {
   "cell_type": "code",
   "execution_count": 7,
   "id": "bf775422",
   "metadata": {},
   "outputs": [],
   "source": [
    "#Definir optimizador y funcion de perdida\n",
    "loss_fn = nn.CrossEntropyLoss() #aplica log_softmax y nll_loss\n",
    "optimizer = torch.optim.Adam(params=model.parameters(), lr=0.001, weight_decay=1e-4)"
   ]
  },
  {
   "cell_type": "code",
   "execution_count": 8,
   "id": "244d8dcc",
   "metadata": {},
   "outputs": [
    {
     "name": "stdout",
     "output_type": "stream",
     "text": [
      "Epoch 10/100 | Train Loss: 0.1206, Train Acc: 0.9637 | Val Loss: 0.1204, Val Acc: 0.9663\n",
      "Epoch 20/100 | Train Loss: 0.1233, Train Acc: 0.9629 | Val Loss: 0.1154, Val Acc: 0.9697\n",
      "Epoch 30/100 | Train Loss: 0.1120, Train Acc: 0.9676 | Val Loss: 0.1009, Val Acc: 0.9692\n",
      "Epoch 40/100 | Train Loss: 0.1124, Train Acc: 0.9670 | Val Loss: 0.0952, Val Acc: 0.9721\n",
      "Epoch 50/100 | Train Loss: 0.1141, Train Acc: 0.9660 | Val Loss: 0.0977, Val Acc: 0.9712\n",
      "Epoch 60/100 | Train Loss: 0.1126, Train Acc: 0.9667 | Val Loss: 0.0965, Val Acc: 0.9716\n",
      "Epoch 70/100 | Train Loss: 0.1067, Train Acc: 0.9688 | Val Loss: 0.0941, Val Acc: 0.9719\n",
      "Epoch 80/100 | Train Loss: 0.1143, Train Acc: 0.9668 | Val Loss: 0.0962, Val Acc: 0.9715\n",
      "Epoch 90/100 | Train Loss: 0.1080, Train Acc: 0.9688 | Val Loss: 0.0947, Val Acc: 0.9721\n",
      "Epoch 100/100 | Train Loss: 0.1069, Train Acc: 0.9693 | Val Loss: 0.0935, Val Acc: 0.9730\n"
     ]
    }
   ],
   "source": [
    "#Funcion de entrenamiento y validacion\n",
    "model.to(DEVICE)\n",
    "def train_model(model, train_dl, val_dl, loss_fn, optimizer, epochs=120):\n",
    "    train_accuracies, val_accuracies = [], []\n",
    "    train_losses, val_losses = [], []\n",
    "\n",
    "    for epoch in range(1, epochs + 1):\n",
    "        # ----- Entrenamiento -----\n",
    "        model.train()\n",
    "        epoch_loss = 0\n",
    "        correct = 0\n",
    "        total = 0\n",
    "\n",
    "        for x_batch, y_batch in train_dl:\n",
    "            x_batch, y_batch = x_batch.to(DEVICE), y_batch.to(DEVICE)\n",
    "\n",
    "            optimizer.zero_grad() #limpiar gradientes\n",
    "            logits = model(x_batch) #forward pass\n",
    "            loss = loss_fn(logits, y_batch) #calcular perdida\n",
    "            loss.backward() #backward pass\n",
    "            optimizer.step() #actualizar pesos\n",
    "\n",
    "            #Acumular perdida y aciertos\n",
    "            epoch_loss += loss.item() * x_batch.size(0)\n",
    "            correct += (logits.argmax(1) == y_batch).sum().item() #aciertos\n",
    "            total += y_batch.size(0)\n",
    "\n",
    "        train_losses.append(epoch_loss / total)\n",
    "        train_accuracies.append(correct / total)\n",
    "\n",
    "        # ----- Validación -----\n",
    "        model.eval()\n",
    "        val_loss = 0\n",
    "        val_correct = 0\n",
    "        val_total = 0\n",
    "\n",
    "        with torch.no_grad(): #no calcular gradientes\n",
    "            for x_batch, y_batch in val_dl:\n",
    "                x_batch, y_batch = x_batch.to(DEVICE), y_batch.to(DEVICE)\n",
    "\n",
    "                logits = model(x_batch)\n",
    "                loss = loss_fn(logits, y_batch)\n",
    "\n",
    "                val_loss += loss.item() * x_batch.size(0)\n",
    "                val_correct += (logits.argmax(1) == y_batch).sum().item()\n",
    "                val_total += y_batch.size(0)\n",
    "\n",
    "        val_losses.append(val_loss / val_total)\n",
    "        val_accuracies.append(val_correct / val_total)\n",
    "\n",
    "        # ----- Print cada 20 epochs -----\n",
    "        if epoch % 10 == 0:\n",
    "            print(f\"Epoch {epoch}/{epochs} | \"\n",
    "                  f\"Train Loss: {train_losses[-1]:.4f}, Train Acc: {train_accuracies[-1]:.4f} | \"\n",
    "                  f\"Val Loss: {val_losses[-1]:.4f}, Val Acc: {val_accuracies[-1]:.4f}\")\n",
    "\n",
    "    return train_losses, train_accuracies, val_losses, val_accuracies\n",
    "\n",
    "#Entrenar el modelo\n",
    "train_losses, train_accuracies, val_losses, val_accuracies = train_model(\n",
    "    model, train_dl, val_dl, loss_fn, optimizer, epochs=100)"
   ]
  },
  {
   "cell_type": "code",
   "execution_count": null,
   "id": "8361f59b",
   "metadata": {},
   "outputs": [
    {
     "data": {
      "image/png": "[encoded data removed]",
      "text/plain": [
       "<Figure size 1200x500 with 2 Axes>"
      ]
     },
     "metadata": {},
     "output_type": "display_data"
    }
   ],
   "source": [
    "#Mostrar graficas de perdida y accuracy tanto de entrenamiento como de validacion\n",
    "plt.figure(figsize=(12, 5))\n",
    "plt.subplot(1, 2, 1)\n",
    "plt.plot(train_losses, label='Train Loss', color='red')\n",
    "plt.plot(val_losses, label='Val Loss', color='blue')\n",
    "plt.title('Loss over Epochs')\n",
    "plt.xlabel('Epochs')\n",
    "plt.ylabel('Loss')\n",
    "plt.legend()\n",
    "\n",
    "plt.subplot(1, 2, 2)\n",
    "plt.plot(train_accuracies, label='Train Accuracy', color='red')\n",
    "plt.plot(val_accuracies, label='Val Accuracy', color='blue')\n",
    "plt.title('Accuracy over Epochs')\n",
    "plt.xlabel('Epochs')\n",
    "plt.ylabel('Accuracy')\n",
    "plt.legend()\n",
    "plt.show()\n",
    "\n"
   ]
  },
  {
   "cell_type": "code",
   "execution_count": 12,
   "id": "302a88ae",
   "metadata": {},
   "outputs": [
    {
     "name": "stdout",
     "output_type": "stream",
     "text": [
      "La primera gráfica muestra la evolución de la función de pérdida (loss) tanto en entrenamiento como en validación a lo largo de las épocas. Podemos observar que ambas curvas descienden rápidamente al inicio y luego se estabilizan, lo que indica que el modelo está aprendiendo correctamente y no hay señales claras de sobreajuste (overfitting), ya que la pérdida de validación no aumenta significativamente.\n",
      "\n",
      "La segunda gráfica representa la precisión (accuracy) en entrenamiento y validación durante las épocas. Ambas curvas alcanzan valores altos y se mantienen cercanas entre sí, lo que sugiere que el modelo generaliza bien y no está memorizando los datos de entrenamiento. En resumen, el modelo logra un buen desempeño tanto en los datos de entrenamiento como en los de validación.\n"
     ]
    }
   ],
   "source": [
    "# Explicación de los resultados de las dos gráficas\n",
    "\n",
    "print(\"La primera gráfica muestra la evolución de la función de pérdida (loss) tanto en entrenamiento como en validación a lo largo de las épocas. \"\n",
    "    \"Podemos observar que ambas curvas descienden rápidamente al inicio y luego se estabilizan, lo que indica que el modelo está aprendiendo correctamente \"\n",
    "    \"y no hay señales claras de sobreajuste (overfitting), ya que la pérdida de validación no aumenta significativamente.\\n\")\n",
    "\n",
    "print(\"La segunda gráfica representa la precisión (accuracy) en entrenamiento y validación durante las épocas. \"\n",
    "    \"Ambas curvas alcanzan valores altos y se mantienen cercanas entre sí, lo que sugiere que el modelo generaliza bien y no está memorizando los datos de entrenamiento. \"\n",
    "    \"En resumen, el modelo logra un buen desempeño tanto en los datos de entrenamiento como en los de validación.\")"
   ]
  },
  {
   "cell_type": "code",
   "execution_count": 9,
   "id": "00e078dc",
   "metadata": {},
   "outputs": [
    {
     "name": "stdout",
     "output_type": "stream",
     "text": [
      "\n",
      "Test Accuracy: 0.9715\n"
     ]
    }
   ],
   "source": [
    "#Testear el modelo\n",
    "model.eval()\n",
    "test_correct = 0\n",
    "test_total = 0\n",
    "\n",
    "all_preds = []\n",
    "all_labels = []\n",
    "\n",
    "with torch.no_grad():\n",
    "    for x_batch, y_batch in test_dl:\n",
    "        x_batch, y_batch = x_batch.to(DEVICE), y_batch.to(DEVICE)\n",
    "        \n",
    "        logits = model(x_batch)\n",
    "        preds = logits.argmax(1)\n",
    "        \n",
    "        # Guardar predicciones y etiquetas reales\n",
    "        all_preds.append(preds.cpu())\n",
    "        all_labels.append(y_batch.cpu())\n",
    "        \n",
    "        # Calcular accuracy\n",
    "        test_correct += (preds == y_batch).sum().item()\n",
    "        test_total += y_batch.size(0)\n",
    "\n",
    "# Concatenar todos los batches\n",
    "all_preds = torch.cat(all_preds)\n",
    "all_labels = torch.cat(all_labels)\n",
    "\n",
    "test_accuracy = test_correct / test_total\n",
    "print(f\"\\nTest Accuracy: {test_accuracy:.4f}\")\n",
    "\n"
   ]
  },
  {
   "cell_type": "code",
   "execution_count": 35,
   "id": "8cc64359",
   "metadata": {},
   "outputs": [
    {
     "data": {
      "image/png": "[encoded data removed]",
      "text/plain": [
       "<Figure size 800x600 with 2 Axes>"
      ]
     },
     "metadata": {},
     "output_type": "display_data"
    },
    {
     "name": "stdout",
     "output_type": "stream",
     "text": [
      "Classification Report:\n",
      "               precision    recall  f1-score   support\n",
      "\n",
      "      GALAXY       0.97      0.98      0.98     11860\n",
      "         QSO       0.96      0.92      0.94      3797\n",
      "        STAR       0.97      1.00      0.99      4343\n",
      "\n",
      "    accuracy                           0.97     20000\n",
      "   macro avg       0.97      0.97      0.97     20000\n",
      "weighted avg       0.97      0.97      0.97     20000\n",
      "\n",
      "Galaxy correct: 11604, Galaxy incorrect: 256\n"
     ]
    }
   ],
   "source": [
    "#Evaluacion detallada del modelo\n",
    "\n",
    "#Creacion de matriz de confision \n",
    "\n",
    "target_pred = all_preds.numpy()\n",
    "target_real = all_labels.numpy()\n",
    "\n",
    "# Matriz de confusión\n",
    "cm = confusion_matrix(target_real, target_pred)\n",
    "plt.figure(figsize=(8, 6))\n",
    "sns.heatmap(cm, annot=True, fmt='d', cmap='Blues',\n",
    "            xticklabels=label_encoder.classes_,\n",
    "            yticklabels=label_encoder.classes_)\n",
    "plt.xlabel('Predicted')\n",
    "plt.ylabel('True')\n",
    "plt.title('Confusion Matrix')\n",
    "plt.show()\n",
    "\n",
    "#Reporte de clasificación\n",
    "report = classification_report(target_real, target_pred, target_names=label_encoder.classes_)\n",
    "print(\"Classification Report:\\n\", report)\n",
    "\n",
    "galaxy_corr = 0\n",
    "galaxy_fail = 0\n",
    "for (x, y) in zip(target_pred, target_real):\n",
    "    if label_encoder.inverse_transform([y])[0] == 'GALAXY':\n",
    "        if (x == y):\n",
    "           galaxy_corr += 1 \n",
    "        else:\n",
    "            galaxy_fail += 1\n",
    "\n",
    "print(f'Galaxy correct: {galaxy_corr}, Galaxy incorrect: {galaxy_fail}')\n",
    "\n"
   ]
  },
  {
   "cell_type": "code",
   "execution_count": null,
   "id": "fdbf26f7",
   "metadata": {
    "vscode": {
     "languageId": "markdown"
    }
   },
   "outputs": [],
   "source": [
    "<!-- La matriz de confusión muestra el desempeño del modelo clasificando las tres clases: GALAXY, QSO y STAR. Cada fila representa la clase real y cada columna la clase predicha. Los valores en la diagonal principal (11604, 3485, 4340) indican la cantidad de ejemplos correctamente clasificados para cada clase. Los valores fuera de la diagonal representan errores de clasificación, es decir, instancias que fueron asignadas a una clase incorrecta.\n",
    "\n",
    "En este caso, la mayoría de las predicciones están en la diagonal, lo que indica un alto nivel de precisión. Por ejemplo, de 11,860 galaxias reales, 11,604 fueron clasificadas correctamente y solo unas pocas se confundieron con QSO o STAR. De manera similar, la clase STAR tiene una tasa de acierto casi perfecta. Los errores más frecuentes ocurren entre GALAXY y QSO, lo cual es común en problemas astronómicos debido a la similitud de sus características espectrales.\n",
    "\n",
    "En resumen, el modelo distingue muy bien entre las clases, con muy pocos errores de confusión, lo que se refleja en la alta precisión y recall observados en el reporte de clasificación. -->\n",
    "\n"
   ]
  },
  {
   "cell_type": "code",
   "execution_count": 38,
   "id": "cedc5777",
   "metadata": {},
   "outputs": [],
   "source": [
    "#Guardar el modelo y parametros\n",
    "\n",
    "torch.save(model.state_dict(), 'stellar_classification_model.pth')\n",
    "\n",
    "#Guardar transformadores y lable encoder\n",
    "with open('scaler.pkl', 'wb') as f:\n",
    "    pickle.dump(scaler, f)\n",
    "with open('label_encoder.pkl', 'wb') as f:\n",
    "    pickle.dump(label_encoder, f)"
   ]
  }
 ],
 "metadata": {
  "kernelspec": {
   "display_name": "astro_env",
   "language": "python",
   "name": "python3"
  },
  "language_info": {
   "codemirror_mode": {
    "name": "ipython",
    "version": 3
   },
   "file_extension": ".py",
   "mimetype": "text/x-python",
   "name": "python",
   "nbconvert_exporter": "python",
   "pygments_lexer": "ipython3",
   "version": "3.10.18"
  }
 },
 "nbformat": 4,
 "nbformat_minor": 5
}
