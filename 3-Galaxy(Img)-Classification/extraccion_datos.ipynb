{
 "cells": [
  {
   "cell_type": "code",
   "execution_count": null,
   "id": "a566f60b",
   "metadata": {},
   "outputs": [],
   "source": [
    "\n",
    "#Descomprimir todas las carpetas .zip en el directorio de Datsets\n",
    "import zipfile\n",
    "import os\n",
    "\n",
    "def unzip_datasets(directory):\n",
    "    for item in os.listdir(directory):\n",
    "        if (item.endswith('.zip')):\n",
    "            with zipfile.ZipFile(os.path.join(directory, item), 'r') as zip_ref:\n",
    "                zip_ref.extractall(directory)\n",
    "\n",
    "unzip_datasets('./Datasets/zip')\n"
   ]
  }
 ],
 "metadata": {
  "kernelspec": {
   "display_name": "astro_env",
   "language": "python",
   "name": "python3"
  },
  "language_info": {
   "codemirror_mode": {
    "name": "ipython",
    "version": 3
   },
   "file_extension": ".py",
   "mimetype": "text/x-python",
   "name": "python",
   "nbconvert_exporter": "python",
   "pygments_lexer": "ipython3",
   "version": "3.10.18"
  }
 },
 "nbformat": 4,
 "nbformat_minor": 5
}
