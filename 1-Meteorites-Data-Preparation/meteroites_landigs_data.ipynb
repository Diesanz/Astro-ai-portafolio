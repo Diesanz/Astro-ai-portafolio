{
 "cells": [
  {
   "cell_type": "code",
   "execution_count": 13,
   "id": "568b496f",
   "metadata": {},
   "outputs": [],
   "source": [
    "#Importacion de librerias necesarias\n",
    "import pandas as pd\n",
    "import matplotlib.pyplot as plt\n",
    "from sklearn.preprocessing import OneHotEncoder, MinMaxScaler, Normalizer, LabelEncoder\n",
    "from sklearn.compose import ColumnTransformer"
   ]
  },
  {
   "cell_type": "code",
   "execution_count": 14,
   "id": "5d5ab3d8",
   "metadata": {},
   "outputs": [
    {
     "name": "stdout",
     "output_type": "stream",
     "text": [
      "Datos originales: (45716, 10)\n"
     ]
    },
    {
     "data": {
      "application/vnd.microsoft.datawrangler.viewer.v0+json": {
       "columns": [
        {
         "name": "index",
         "rawType": "int64",
         "type": "integer"
        },
        {
         "name": "name",
         "rawType": "object",
         "type": "string"
        },
        {
         "name": "id",
         "rawType": "int64",
         "type": "integer"
        },
        {
         "name": "nametype",
         "rawType": "object",
         "type": "string"
        },
        {
         "name": "recclass",
         "rawType": "object",
         "type": "string"
        },
        {
         "name": "mass",
         "rawType": "float64",
         "type": "float"
        },
        {
         "name": "fall",
         "rawType": "object",
         "type": "string"
        },
        {
         "name": "year",
         "rawType": "float64",
         "type": "float"
        },
        {
         "name": "reclat",
         "rawType": "float64",
         "type": "float"
        },
        {
         "name": "reclong",
         "rawType": "float64",
         "type": "float"
        },
        {
         "name": "GeoLocation",
         "rawType": "object",
         "type": "string"
        }
       ],
       "ref": "e0f02614-9e41-49ed-9c56-baadcd03b665",
       "rows": [
        [
         "0",
         "Aachen",
         "1",
         "Valid",
         "L5",
         "21.0",
         "Fell",
         "1880.0",
         "50.775",
         "6.08333",
         "(50.775000, 6.083330)"
        ],
        [
         "1",
         "Aarhus",
         "2",
         "Valid",
         "H6",
         "720.0",
         "Fell",
         "1951.0",
         "56.18333",
         "10.23333",
         "(56.183330, 10.233330)"
        ],
        [
         "2",
         "Abee",
         "6",
         "Valid",
         "EH4",
         "107000.0",
         "Fell",
         "1952.0",
         "54.21667",
         "-113.0",
         "(54.216670, -113.000000)"
        ],
        [
         "3",
         "Acapulco",
         "10",
         "Valid",
         "Acapulcoite",
         "1914.0",
         "Fell",
         "1976.0",
         "16.88333",
         "-99.9",
         "(16.883330, -99.900000)"
        ],
        [
         "4",
         "Achiras",
         "370",
         "Valid",
         "L6",
         "780.0",
         "Fell",
         "1902.0",
         "-33.16667",
         "-64.95",
         "(-33.166670, -64.950000)"
        ]
       ],
       "shape": {
        "columns": 10,
        "rows": 5
       }
      },
      "text/html": [
       "<div>\n",
       "<style scoped>\n",
       "    .dataframe tbody tr th:only-of-type {\n",
       "        vertical-align: middle;\n",
       "    }\n",
       "\n",
       "    .dataframe tbody tr th {\n",
       "        vertical-align: top;\n",
       "    }\n",
       "\n",
       "    .dataframe thead th {\n",
       "        text-align: right;\n",
       "    }\n",
       "</style>\n",
       "<table border=\"1\" class=\"dataframe\">\n",
       "  <thead>\n",
       "    <tr style=\"text-align: right;\">\n",
       "      <th></th>\n",
       "      <th>name</th>\n",
       "      <th>id</th>\n",
       "      <th>nametype</th>\n",
       "      <th>recclass</th>\n",
       "      <th>mass</th>\n",
       "      <th>fall</th>\n",
       "      <th>year</th>\n",
       "      <th>reclat</th>\n",
       "      <th>reclong</th>\n",
       "      <th>GeoLocation</th>\n",
       "    </tr>\n",
       "  </thead>\n",
       "  <tbody>\n",
       "    <tr>\n",
       "      <th>0</th>\n",
       "      <td>Aachen</td>\n",
       "      <td>1</td>\n",
       "      <td>Valid</td>\n",
       "      <td>L5</td>\n",
       "      <td>21.0</td>\n",
       "      <td>Fell</td>\n",
       "      <td>1880.0</td>\n",
       "      <td>50.77500</td>\n",
       "      <td>6.08333</td>\n",
       "      <td>(50.775000, 6.083330)</td>\n",
       "    </tr>\n",
       "    <tr>\n",
       "      <th>1</th>\n",
       "      <td>Aarhus</td>\n",
       "      <td>2</td>\n",
       "      <td>Valid</td>\n",
       "      <td>H6</td>\n",
       "      <td>720.0</td>\n",
       "      <td>Fell</td>\n",
       "      <td>1951.0</td>\n",
       "      <td>56.18333</td>\n",
       "      <td>10.23333</td>\n",
       "      <td>(56.183330, 10.233330)</td>\n",
       "    </tr>\n",
       "    <tr>\n",
       "      <th>2</th>\n",
       "      <td>Abee</td>\n",
       "      <td>6</td>\n",
       "      <td>Valid</td>\n",
       "      <td>EH4</td>\n",
       "      <td>107000.0</td>\n",
       "      <td>Fell</td>\n",
       "      <td>1952.0</td>\n",
       "      <td>54.21667</td>\n",
       "      <td>-113.00000</td>\n",
       "      <td>(54.216670, -113.000000)</td>\n",
       "    </tr>\n",
       "    <tr>\n",
       "      <th>3</th>\n",
       "      <td>Acapulco</td>\n",
       "      <td>10</td>\n",
       "      <td>Valid</td>\n",
       "      <td>Acapulcoite</td>\n",
       "      <td>1914.0</td>\n",
       "      <td>Fell</td>\n",
       "      <td>1976.0</td>\n",
       "      <td>16.88333</td>\n",
       "      <td>-99.90000</td>\n",
       "      <td>(16.883330, -99.900000)</td>\n",
       "    </tr>\n",
       "    <tr>\n",
       "      <th>4</th>\n",
       "      <td>Achiras</td>\n",
       "      <td>370</td>\n",
       "      <td>Valid</td>\n",
       "      <td>L6</td>\n",
       "      <td>780.0</td>\n",
       "      <td>Fell</td>\n",
       "      <td>1902.0</td>\n",
       "      <td>-33.16667</td>\n",
       "      <td>-64.95000</td>\n",
       "      <td>(-33.166670, -64.950000)</td>\n",
       "    </tr>\n",
       "  </tbody>\n",
       "</table>\n",
       "</div>"
      ],
      "text/plain": [
       "       name   id nametype     recclass      mass  fall    year    reclat  \\\n",
       "0    Aachen    1    Valid           L5      21.0  Fell  1880.0  50.77500   \n",
       "1    Aarhus    2    Valid           H6     720.0  Fell  1951.0  56.18333   \n",
       "2      Abee    6    Valid          EH4  107000.0  Fell  1952.0  54.21667   \n",
       "3  Acapulco   10    Valid  Acapulcoite    1914.0  Fell  1976.0  16.88333   \n",
       "4   Achiras  370    Valid           L6     780.0  Fell  1902.0 -33.16667   \n",
       "\n",
       "     reclong               GeoLocation  \n",
       "0    6.08333     (50.775000, 6.083330)  \n",
       "1   10.23333    (56.183330, 10.233330)  \n",
       "2 -113.00000  (54.216670, -113.000000)  \n",
       "3  -99.90000   (16.883330, -99.900000)  \n",
       "4  -64.95000  (-33.166670, -64.950000)  "
      ]
     },
     "execution_count": 14,
     "metadata": {},
     "output_type": "execute_result"
    }
   ],
   "source": [
    "#Lectura del dataset\n",
    "df = pd.read_csv(\"./Datasets/meteorite-landings.csv\")\n",
    "print(\"Datos originales:\", df.shape)\n",
    "df.head()"
   ]
  },
  {
   "cell_type": "code",
   "execution_count": 15,
   "id": "46bfe088",
   "metadata": {},
   "outputs": [
    {
     "name": "stdout",
     "output_type": "stream",
     "text": [
      "<class 'pandas.core.frame.DataFrame'>\n",
      "RangeIndex: 45716 entries, 0 to 45715\n",
      "Data columns (total 10 columns):\n",
      " #   Column       Non-Null Count  Dtype  \n",
      "---  ------       --------------  -----  \n",
      " 0   name         45716 non-null  object \n",
      " 1   id           45716 non-null  int64  \n",
      " 2   nametype     45716 non-null  object \n",
      " 3   recclass     45716 non-null  object \n",
      " 4   mass         45585 non-null  float64\n",
      " 5   fall         45716 non-null  object \n",
      " 6   year         45428 non-null  float64\n",
      " 7   reclat       38401 non-null  float64\n",
      " 8   reclong      38401 non-null  float64\n",
      " 9   GeoLocation  38401 non-null  object \n",
      "dtypes: float64(4), int64(1), object(5)\n",
      "memory usage: 3.5+ MB\n",
      "None\n",
      "          name            id nametype recclass          mass   fall  \\\n",
      "count    45716  45716.000000    45716    45716  4.558500e+04  45716   \n",
      "unique   45716           NaN        2      466           NaN      2   \n",
      "top     Aachen           NaN    Valid       L6           NaN  Found   \n",
      "freq         1           NaN    45641     8285           NaN  44609   \n",
      "mean       NaN  26889.735104      NaN      NaN  1.327808e+04    NaN   \n",
      "std        NaN  16860.683030      NaN      NaN  5.749889e+05    NaN   \n",
      "min        NaN      1.000000      NaN      NaN  0.000000e+00    NaN   \n",
      "25%        NaN  12688.750000      NaN      NaN  7.200000e+00    NaN   \n",
      "50%        NaN  24261.500000      NaN      NaN  3.260000e+01    NaN   \n",
      "75%        NaN  40656.750000      NaN      NaN  2.026000e+02    NaN   \n",
      "max        NaN  57458.000000      NaN      NaN  6.000000e+07    NaN   \n",
      "\n",
      "                year        reclat       reclong           GeoLocation  \n",
      "count   45428.000000  38401.000000  38401.000000                 38401  \n",
      "unique           NaN           NaN           NaN                 17100  \n",
      "top              NaN           NaN           NaN  (0.000000, 0.000000)  \n",
      "freq             NaN           NaN           NaN                  6214  \n",
      "mean     1991.772189    -39.122580     61.074319                   NaN  \n",
      "std        27.181247     46.378511     80.647298                   NaN  \n",
      "min       301.000000    -87.366670   -165.433330                   NaN  \n",
      "25%      1987.000000    -76.714240      0.000000                   NaN  \n",
      "50%      1998.000000    -71.500000     35.666670                   NaN  \n",
      "75%      2003.000000      0.000000    157.166670                   NaN  \n",
      "max      2501.000000     81.166670    354.473330                   NaN  \n"
     ]
    }
   ],
   "source": [
    "#Exploracion inicial de los datos\n",
    "print(df.info())\n",
    "print(df.describe(include='all'))"
   ]
  },
  {
   "cell_type": "code",
   "execution_count": 16,
   "id": "44027f2d",
   "metadata": {},
   "outputs": [
    {
     "data": {
      "image/png": "[encoded data removed]",
      "text/plain": [
       "<Figure size 1000x400 with 1 Axes>"
      ]
     },
     "metadata": {},
     "output_type": "display_data"
    },
    {
     "data": {
      "image/png": "[encoded data removed]",
      "text/plain": [
       "<Figure size 800x500 with 1 Axes>"
      ]
     },
     "metadata": {},
     "output_type": "display_data"
    }
   ],
   "source": [
    "\n",
    "#Grafica de la distribucion de meteoritos por año\n",
    "plt.figure(figsize=(10, 4))\n",
    "plt.hist(df['year'].dropna(), bins=30, color='skyblue', edgecolor='black')\n",
    "plt.title(\"Distribución de meteoritos por año\")\n",
    "plt.xlabel(\"Año\")\n",
    "plt.ylabel(\"Frecuencia\")\n",
    "plt.show()\n",
    "\n",
    "#Grafica para mostrar llos 5 tipos de meteoritos mas comunes que han caido en la tierra\n",
    "top_classes = df['recclass'].value_counts().head(5)\n",
    "plt.figure(figsize=(8, 5))\n",
    "top_classes.plot(kind='bar', color='lightgreen', edgecolor='black')\n",
    "plt.title(\"Top 5 tipos de meteoritos más comunes\")\n",
    "plt.xlabel(\"Tipo de meteorito\")\n",
    "plt.ylabel(\"Cantidad\")\n",
    "plt.show()"
   ]
  },
  {
   "cell_type": "code",
   "execution_count": 17,
   "id": "9d5ae32a",
   "metadata": {},
   "outputs": [
    {
     "name": "stdout",
     "output_type": "stream",
     "text": [
      "Dimensiones finales (31929, 10)\n"
     ]
    },
    {
     "data": {
      "application/vnd.microsoft.datawrangler.viewer.v0+json": {
       "columns": [
        {
         "name": "index",
         "rawType": "int64",
         "type": "integer"
        },
        {
         "name": "name",
         "rawType": "object",
         "type": "string"
        },
        {
         "name": "id",
         "rawType": "int64",
         "type": "integer"
        },
        {
         "name": "nametype",
         "rawType": "object",
         "type": "string"
        },
        {
         "name": "recclass",
         "rawType": "object",
         "type": "string"
        },
        {
         "name": "mass",
         "rawType": "float64",
         "type": "float"
        },
        {
         "name": "fall",
         "rawType": "object",
         "type": "string"
        },
        {
         "name": "year",
         "rawType": "float64",
         "type": "float"
        },
        {
         "name": "reclat",
         "rawType": "float64",
         "type": "float"
        },
        {
         "name": "reclong",
         "rawType": "float64",
         "type": "float"
        },
        {
         "name": "GeoLocation",
         "rawType": "object",
         "type": "string"
        }
       ],
       "ref": "9844c54a-787a-4bc2-9fd1-80cab3f7ae66",
       "rows": [
        [
         "0",
         "Aachen",
         "1",
         "Valid",
         "L5",
         "21.0",
         "Fell",
         "1880.0",
         "50.775",
         "6.08333",
         "(50.775000, 6.083330)"
        ],
        [
         "1",
         "Aarhus",
         "2",
         "Valid",
         "H6",
         "720.0",
         "Fell",
         "1951.0",
         "56.18333",
         "10.23333",
         "(56.183330, 10.233330)"
        ],
        [
         "2",
         "Abee",
         "6",
         "Valid",
         "EH4",
         "107000.0",
         "Fell",
         "1952.0",
         "54.21667",
         "-113.0",
         "(54.216670, -113.000000)"
        ],
        [
         "3",
         "Acapulco",
         "10",
         "Valid",
         "Acapulcoite",
         "1914.0",
         "Fell",
         "1976.0",
         "16.88333",
         "-99.9",
         "(16.883330, -99.900000)"
        ],
        [
         "4",
         "Achiras",
         "370",
         "Valid",
         "L6",
         "780.0",
         "Fell",
         "1902.0",
         "-33.16667",
         "-64.95",
         "(-33.166670, -64.950000)"
        ]
       ],
       "shape": {
        "columns": 10,
        "rows": 5
       }
      },
      "text/html": [
       "<div>\n",
       "<style scoped>\n",
       "    .dataframe tbody tr th:only-of-type {\n",
       "        vertical-align: middle;\n",
       "    }\n",
       "\n",
       "    .dataframe tbody tr th {\n",
       "        vertical-align: top;\n",
       "    }\n",
       "\n",
       "    .dataframe thead th {\n",
       "        text-align: right;\n",
       "    }\n",
       "</style>\n",
       "<table border=\"1\" class=\"dataframe\">\n",
       "  <thead>\n",
       "    <tr style=\"text-align: right;\">\n",
       "      <th></th>\n",
       "      <th>name</th>\n",
       "      <th>id</th>\n",
       "      <th>nametype</th>\n",
       "      <th>recclass</th>\n",
       "      <th>mass</th>\n",
       "      <th>fall</th>\n",
       "      <th>year</th>\n",
       "      <th>reclat</th>\n",
       "      <th>reclong</th>\n",
       "      <th>GeoLocation</th>\n",
       "    </tr>\n",
       "  </thead>\n",
       "  <tbody>\n",
       "    <tr>\n",
       "      <th>0</th>\n",
       "      <td>Aachen</td>\n",
       "      <td>1</td>\n",
       "      <td>Valid</td>\n",
       "      <td>L5</td>\n",
       "      <td>21.0</td>\n",
       "      <td>Fell</td>\n",
       "      <td>1880.0</td>\n",
       "      <td>50.77500</td>\n",
       "      <td>6.08333</td>\n",
       "      <td>(50.775000, 6.083330)</td>\n",
       "    </tr>\n",
       "    <tr>\n",
       "      <th>1</th>\n",
       "      <td>Aarhus</td>\n",
       "      <td>2</td>\n",
       "      <td>Valid</td>\n",
       "      <td>H6</td>\n",
       "      <td>720.0</td>\n",
       "      <td>Fell</td>\n",
       "      <td>1951.0</td>\n",
       "      <td>56.18333</td>\n",
       "      <td>10.23333</td>\n",
       "      <td>(56.183330, 10.233330)</td>\n",
       "    </tr>\n",
       "    <tr>\n",
       "      <th>2</th>\n",
       "      <td>Abee</td>\n",
       "      <td>6</td>\n",
       "      <td>Valid</td>\n",
       "      <td>EH4</td>\n",
       "      <td>107000.0</td>\n",
       "      <td>Fell</td>\n",
       "      <td>1952.0</td>\n",
       "      <td>54.21667</td>\n",
       "      <td>-113.00000</td>\n",
       "      <td>(54.216670, -113.000000)</td>\n",
       "    </tr>\n",
       "    <tr>\n",
       "      <th>3</th>\n",
       "      <td>Acapulco</td>\n",
       "      <td>10</td>\n",
       "      <td>Valid</td>\n",
       "      <td>Acapulcoite</td>\n",
       "      <td>1914.0</td>\n",
       "      <td>Fell</td>\n",
       "      <td>1976.0</td>\n",
       "      <td>16.88333</td>\n",
       "      <td>-99.90000</td>\n",
       "      <td>(16.883330, -99.900000)</td>\n",
       "    </tr>\n",
       "    <tr>\n",
       "      <th>4</th>\n",
       "      <td>Achiras</td>\n",
       "      <td>370</td>\n",
       "      <td>Valid</td>\n",
       "      <td>L6</td>\n",
       "      <td>780.0</td>\n",
       "      <td>Fell</td>\n",
       "      <td>1902.0</td>\n",
       "      <td>-33.16667</td>\n",
       "      <td>-64.95000</td>\n",
       "      <td>(-33.166670, -64.950000)</td>\n",
       "    </tr>\n",
       "  </tbody>\n",
       "</table>\n",
       "</div>"
      ],
      "text/plain": [
       "       name   id nametype     recclass      mass  fall    year    reclat  \\\n",
       "0    Aachen    1    Valid           L5      21.0  Fell  1880.0  50.77500   \n",
       "1    Aarhus    2    Valid           H6     720.0  Fell  1951.0  56.18333   \n",
       "2      Abee    6    Valid          EH4  107000.0  Fell  1952.0  54.21667   \n",
       "3  Acapulco   10    Valid  Acapulcoite    1914.0  Fell  1976.0  16.88333   \n",
       "4   Achiras  370    Valid           L6     780.0  Fell  1902.0 -33.16667   \n",
       "\n",
       "     reclong               GeoLocation  \n",
       "0    6.08333     (50.775000, 6.083330)  \n",
       "1   10.23333    (56.183330, 10.233330)  \n",
       "2 -113.00000  (54.216670, -113.000000)  \n",
       "3  -99.90000   (16.883330, -99.900000)  \n",
       "4  -64.95000  (-33.166670, -64.950000)  "
      ]
     },
     "execution_count": 17,
     "metadata": {},
     "output_type": "execute_result"
    }
   ],
   "source": [
    "#Limpieza de datos \n",
    "\n",
    "# Filtrar años válidos (860 dC - 2016 dC)\n",
    "df = df[(df['year'] >= 860) & (df['year'] <= 2016)]\n",
    "\n",
    "# Filtrar coordenadas válidas\n",
    "df = df[(df['reclong'].between(-180, 180)) & ((df['reclat'] != 0) | (df['reclong'] != 0))]\n",
    "\n",
    "# Eliminar filas con datos nulos en las columnas de interés y resetear índices\n",
    "df = df.dropna(subset=['year', 'reclat', 'reclong', 'mass', 'recclass'])\n",
    "df.reset_index(drop=True, inplace=True)\n",
    "\n",
    "print(f'Dimensiones finales {df.shape}')\n",
    "df.head()"
   ]
  },
  {
   "cell_type": "code",
   "execution_count": 18,
   "id": "23beda3b",
   "metadata": {},
   "outputs": [],
   "source": [
    "#Preparacion de datos, para el modelo de clasificación\n",
    "# Seleccionar características y objetivo (útiles para el modelo)\n",
    "features = df[['nametype', 'fall', 'mass', 'reclat', 'reclong', 'year']]\n",
    "targets = df['recclass']\n",
    "\n",
    "# Definir las columnas por tipo\n",
    "cathegorical_features = ['nametype', 'fall']\n",
    "numerical_features = ['mass', 'year']\n",
    "coord_features = ['reclat', 'reclong']\n",
    "\n",
    "# Crear el transformador de columnas\n",
    "preprocessor = ColumnTransformer(\n",
    "    transformers=[\n",
    "        ('cat', OneHotEncoder(), cathegorical_features),\n",
    "        ('num', MinMaxScaler(), numerical_features),\n",
    "        ('coord', Normalizer(), coord_features)\n",
    "    ])\n",
    "\n",
    "# Codificar etiquetas de salida\n",
    "label_encoder = LabelEncoder()\n",
    "\n",
    "# Aplicar las transformaciones a las características y las etiquetas\n",
    "X = preprocessor.fit_transform(features)\n",
    "y = label_encoder.fit_transform(targets)"
   ]
  },
  {
   "cell_type": "code",
   "execution_count": 22,
   "id": "2e010059",
   "metadata": {},
   "outputs": [
    {
     "name": "stdout",
     "output_type": "stream",
     "text": [
      "Características transformadas: (31929, 8)\n",
      "Número de etiquetas únicas: 392\n",
      "Ejemplo de targets codificados: [284 164  69   0 289  69 298 157 289 208]\n",
      "Clases ejemplo: ['Acapulcoite' 'Acapulcoite/Lodranite' 'Achondrite-ung' 'Angrite'\n",
      " 'Aubrite' 'Aubrite-an' 'Brachinite' 'C' 'C1/2-ung' 'C2']\n"
     ]
    }
   ],
   "source": [
    "print(\"Características transformadas:\", X.shape)\n",
    "print(\"Número de etiquetas únicas:\", len(set(y)))\n",
    "print(\"Ejemplo de targets codificados:\", y[:10])\n",
    "print(\"Clases ejemplo:\", label_encoder.classes_[:10])"
   ]
  },
  {
   "cell_type": "code",
   "execution_count": 23,
   "id": "02128675",
   "metadata": {},
   "outputs": [
    {
     "name": "stdout",
     "output_type": "stream",
     "text": [
      "Dataset limpio guardado en: ./Datasets/meteorite-landings-limpio.csv\n"
     ]
    }
   ],
   "source": [
    "#Guardar dataset limpio\n",
    "path = './Datasets/meteorite-landings-limpio.csv'\n",
    "df.to_csv(path, index=False)\n",
    "\n",
    "print(f'Dataset limpio guardado en: {path}')"
   ]
  }
 ],
 "metadata": {
  "kernelspec": {
   "display_name": "astro_env",
   "language": "python",
   "name": "python3"
  },
  "language_info": {
   "codemirror_mode": {
    "name": "ipython",
    "version": 3
   },
   "file_extension": ".py",
   "mimetype": "text/x-python",
   "name": "python",
   "nbconvert_exporter": "python",
   "pygments_lexer": "ipython3",
   "version": "3.10.18"
  }
 },
 "nbformat": 4,
 "nbformat_minor": 5
}
