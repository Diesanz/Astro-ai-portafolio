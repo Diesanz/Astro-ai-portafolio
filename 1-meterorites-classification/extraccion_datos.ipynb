{
 "cells": [
  {
   "cell_type": "code",
   "execution_count": 5,
   "id": "3f07f105",
   "metadata": {},
   "outputs": [
    {
     "name": "stdout",
     "output_type": "stream",
     "text": [
      "Downloading from https://www.kaggle.com/api/v1/datasets/download/nasa/meteorite-landings?dataset_version_number=2...\n"
     ]
    },
    {
     "name": "stderr",
     "output_type": "stream",
     "text": [
      "100%|██████████| 685k/685k [00:00<00:00, 1.34MB/s]"
     ]
    },
    {
     "name": "stdout",
     "output_type": "stream",
     "text": [
      "Extracting files...\n",
      "Dataset guardado en: ./Datasets\\datasets\\nasa\\meteorite-landings\\versions\\2\n"
     ]
    },
    {
     "name": "stderr",
     "output_type": "stream",
     "text": [
      "\n"
     ]
    }
   ],
   "source": [
    "import os\n",
    "import kagglehub\n",
    "\n",
    "# Especificar carpeta donde guardar\n",
    "os.environ[\"KAGGLEHUB_CACHE\"] = \"./Datasets\"\n",
    "\n",
    "# Descargar dataset\n",
    "path = kagglehub.dataset_download(\"nasa/meteorite-landings\")\n",
    "\n",
    "print(\"Dataset guardado en:\", path)\n"
   ]
  },
  {
   "cell_type": "code",
   "execution_count": null,
   "id": "240958a9",
   "metadata": {},
   "outputs": [
    {
     "name": "stdout",
     "output_type": "stream",
     "text": [
      "Directorio actual: c:\\Users\\diego\\Desktop\\Informatica\\Proyectos-Propios\\astro-ai-portfolio\\1-meterorites-classification\n",
      "       name   id nametype     recclass      mass  fall    year    reclat  \\\n",
      "0    Aachen    1    Valid           L5      21.0  Fell  1880.0  50.77500   \n",
      "1    Aarhus    2    Valid           H6     720.0  Fell  1951.0  56.18333   \n",
      "2      Abee    6    Valid          EH4  107000.0  Fell  1952.0  54.21667   \n",
      "3  Acapulco   10    Valid  Acapulcoite    1914.0  Fell  1976.0  16.88333   \n",
      "4   Achiras  370    Valid           L6     780.0  Fell  1902.0 -33.16667   \n",
      "\n",
      "     reclong               GeoLocation  \n",
      "0    6.08333     (50.775000, 6.083330)  \n",
      "1   10.23333    (56.183330, 10.233330)  \n",
      "2 -113.00000  (54.216670, -113.000000)  \n",
      "3  -99.90000   (16.883330, -99.900000)  \n",
      "4  -64.95000  (-33.166670, -64.950000)  \n"
     ]
    }
   ],
   "source": [
    "import pandas as pd\n",
    "#lectura del dataset\n",
    "df = pd.read_csv(\"./Datasets/meteorite-landings.csv\")\n",
    "print(df.head())"
   ]
  }
 ],
 "metadata": {
  "kernelspec": {
   "display_name": "astro_env",
   "language": "python",
   "name": "python3"
  },
  "language_info": {
   "codemirror_mode": {
    "name": "ipython",
    "version": 3
   },
   "file_extension": ".py",
   "mimetype": "text/x-python",
   "name": "python",
   "nbconvert_exporter": "python",
   "pygments_lexer": "ipython3",
   "version": "3.10.18"
  }
 },
 "nbformat": 4,
 "nbformat_minor": 5
}
