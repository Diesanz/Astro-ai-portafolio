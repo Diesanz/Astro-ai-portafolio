{
 "cells": [
  {
   "cell_type": "code",
   "execution_count": 1,
   "id": "88e6af4f",
   "metadata": {},
   "outputs": [
    {
     "name": "stdout",
     "output_type": "stream",
     "text": [
      "######## Wikipedia ########\n",
      "An exoplanet or extrasolar planet is a planet outside of the Solar System. The first confirmed detection of an exoplanet was in 1992 around a pulsar, and the first detection around a main-sequence star was in 1995. A different planet, first detected in 1988, was confirmed in 2003. In 2016, it was recognized that the first possible evidence of an exoplanet had been noted in 1917.  As of 14 August 2025, there are 5,983 confirmed exoplanets in 4,470 planetary systems, with 1,001 systems having more than one planet. In collaboration with ground-based and other space-based observatories the James Webb Space Telescope (JWST) is expected to give more insight into exoplanet traits, such as their composition, environmental conditions, and planetary habitability.\n",
      "There are many methods of detecting exoplanets. Transit photometry and Doppler spectroscopy have found the most, but these methods suffer from a clear observational bias favoring the detection of planets near the star; thus, 85% of the \n",
      "\n",
      "######### Arvix ###########\n"
     ]
    },
    {
     "name": "stderr",
     "output_type": "stream",
     "text": [
      "C:\\Users\\diego\\AppData\\Local\\Temp\\ipykernel_8968\\1132211511.py:22: DeprecationWarning: The 'Search.results' method is deprecated, use 'Client.results' instead\n",
      "  for result in search.results():\n"
     ]
    },
    {
     "name": "stdout",
     "output_type": "stream",
     "text": [
      "Título: NASA Exoplanet Exploration Program (ExEP) Science Gap List\n",
      "Resumen: The Exoplanet Exploration Program (ExEP) is chartered by the NASA\n",
      "Astrophysics Division to carry out science, research, and technology tasks that\n",
      "advance NASA's science goals for exoplanets. The ExEP Science Gap List is a\n",
      "compilation of \"science gaps\", defined as either: 1) The difference between\n",
      "knowledge needed to define requirements for specified future NASA exoplanet\n",
      "missions and the current state of the art, or 2) Knowledge which is needed to\n",
      "enhance the exoplanet science return of current \n",
      "PDF: http://arxiv.org/pdf/2507.18665v1\n",
      "============================================================\n",
      "Título: Exoplanet Vision 2050\n",
      "Resumen: Is there any hope for us to draw a plausible picture of the future of\n",
      "exoplanet research? Here we extrapolate from the first 25 years of exoplanet\n",
      "discovery into the year 2050. If the power law for the cumulative exoplanet\n",
      "count continues, then almost 100,000,000 exoplanets would be known by 2050.\n",
      "Although this number sounds ridiculously large, we find that the power law\n",
      "could plausibly continue until at least as far as 2030, when Gaia and WFIRST\n",
      "will have discovered on the order of 100,000 exop\n",
      "PDF: http://arxiv.org/pdf/1911.12114v2\n",
      "============================================================\n",
      "Título: Dark Exoplanets\n",
      "Resumen: The prevailing assumption is that all exoplanets are made of ordinary matter.\n",
      "However, we propose an unconventional possibility that some exoplanets could be\n",
      "made of dark matter, which we name \"dark exoplanets.\" In this paper, we explore\n",
      "methods to search for dark exoplanets, including the mass-radius relation,\n",
      "spectroscopy, missing transit, and transit light curve. Specifically, we focus\n",
      "on the transit light curve method and demonstrate how to distinguish partially\n",
      "transparent dark exoplanets f\n",
      "PDF: http://arxiv.org/pdf/2303.12129v1\n",
      "============================================================\n"
     ]
    }
   ],
   "source": [
    "#Pocesamiento de copus\n",
    "\n",
    "#1.Ejemplo de como Recolectar datos de wikipedia\n",
    "print(\"######## Wikipedia ########\")\n",
    "import wikipediaapi\n",
    "\n",
    "wiki = wikipediaapi.Wikipedia(user_agent='Example/1.0', language=\"en\")\n",
    "page = wiki.page(\"Exoplanet\") #Más ejemplos con la palbra planet, metheorites, moons, ...\n",
    "print(page.summary[:1000])  # primeras líneas\n",
    "\n",
    "print()\n",
    "print(\"######### Arvix ###########\")\n",
    "#2. Ejemplo de como recolectar datos de arxiv\n",
    "import arxiv\n",
    "\n",
    "search = arxiv.Search(\n",
    "    query=\"exoplanet\",\n",
    "    max_results=3,\n",
    "    sort_by=arxiv.SortCriterion.Relevance\n",
    ")\n",
    "\n",
    "for result in search.results():\n",
    "    print(\"Título:\", result.title)\n",
    "    print(\"Resumen:\", result.summary[:500])\n",
    "    print(\"PDF:\", result.pdf_url)\n",
    "    print(\"=\"*60)\n",
    " \n"
   ]
  },
  {
   "cell_type": "code",
   "execution_count": 2,
   "id": "3046755c",
   "metadata": {},
   "outputs": [
    {
     "name": "stderr",
     "output_type": "stream",
     "text": [
      "C:\\Users\\diego\\AppData\\Local\\Temp\\ipykernel_8968\\2271120547.py:19: DeprecationWarning: The 'Search.results' method is deprecated, use 'Client.results' instead\n",
      "  for result in search.results():\n"
     ]
    }
   ],
   "source": [
    "#Recolección de datos a gran escala\n",
    "wiki = wikipediaapi.Wikipedia(user_agent=\"AstroBot/1.0\", language=\"en\")\n",
    "topics = [\"Exoplanet\", \"Planet\", \"Moon\", \"Meteorite\", \"Galaxy\", \"Black hole\"]\n",
    "\n",
    "wiki_docs = []\n",
    "for t in topics:\n",
    "    page = wiki.page(t)\n",
    "    wiki_docs.append({\"title\": page.title, \"text\": page.text})\n",
    "\n",
    "queries = [\"exoplanet\", \"galaxy\", \"black hole\", \"supernova\"]\n",
    "arxiv_docs = []\n",
    "\n",
    "for q in queries:\n",
    "    search = arxiv.Search(\n",
    "        query=q,\n",
    "        max_results=70,   \n",
    "        sort_by=arxiv.SortCriterion.Relevance\n",
    "    )\n",
    "    for result in search.results():\n",
    "        arxiv_docs.append({\n",
    "            \"title\": result.title,\n",
    "            \"text\": result.summary\n",
    "        })\n"
   ]
  },
  {
   "cell_type": "code",
   "execution_count": 3,
   "id": "9d36697f",
   "metadata": {},
   "outputs": [],
   "source": [
    "import json\n",
    "all_docs = wiki_docs + arxiv_docs\n",
    "with open(\"./results/astronomia_corpus.json\", \"w\", encoding=\"utf-8\") as f:\n",
    "    json.dump(all_docs, f, ensure_ascii=False, indent=2)"
   ]
  }
 ],
 "metadata": {
  "kernelspec": {
   "display_name": "astro_env",
   "language": "python",
   "name": "python3"
  },
  "language_info": {
   "codemirror_mode": {
    "name": "ipython",
    "version": 3
   },
   "file_extension": ".py",
   "mimetype": "text/x-python",
   "name": "python",
   "nbconvert_exporter": "python",
   "pygments_lexer": "ipython3",
   "version": "3.10.18"
  }
 },
 "nbformat": 4,
 "nbformat_minor": 5
}
